{
 "cells": [
  {
   "cell_type": "markdown",
   "metadata": {},
   "source": [
    "https://github.com/hananedupouy/LLMs-in-Finance/blob/main/Multimodal_llms/financial_analysis/multimodal_claude3_5_sonnet_gpt4o_claude3_opus_charts_analysis.ipynb\n",
    "\n",
    "https://github.com/run-llama/llama_parse/blob/main/examples/demo_json.ipynb\n",
    "\n",
    "https://docs.llamaindex.ai/en/stable/module_guides/models/multi_modal/"
   ]
  },
  {
   "cell_type": "code",
   "execution_count": null,
   "metadata": {},
   "outputs": [],
   "source": []
  }
 ],
 "metadata": {
  "language_info": {
   "name": "python"
  }
 },
 "nbformat": 4,
 "nbformat_minor": 2
}
