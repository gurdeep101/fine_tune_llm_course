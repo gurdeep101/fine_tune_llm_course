{
 "cells": [
  {
   "cell_type": "markdown",
   "metadata": {},
   "source": [
    "https://huggingface.co/spaces/wendys-llc/pdfplumber-demo\n",
    "\n",
    "https://github.com/jsvine/nicar-2023-pdfplumber-workshop/tree/main\n",
    "\n",
    "https://github.com/jsvine/lede-2023/tree/main/pdf-parsing\n",
    "\n",
    "https://github.com/jsvine/pdfplumber/?tab=readme-ov-file#extracting-text\n",
    "\n",
    "https://github.com/hananedupouy/LLMs-in-Finance/blob/main/Multimodal_llms/financial_analysis/multimodal_claude3_5_sonnet_gpt4o_claude3_opus_charts_analysis.ipynb\n",
    "\n",
    "https://blog.knowledgator.com/extract-custom-table-from-pdf-with-llms-2ad678c26200"
   ]
  },
  {
   "cell_type": "code",
   "execution_count": 1,
   "metadata": {},
   "outputs": [],
   "source": [
    "import nest_asyncio\n",
    "nest_asyncio.apply()\n",
    "\n",
    "import os\n",
    "import pdfplumber"
   ]
  },
  {
   "cell_type": "code",
   "execution_count": 2,
   "metadata": {},
   "outputs": [
    {
     "name": "stdout",
     "output_type": "stream",
     "text": [
      "<class 'pdfplumber.pdf.PDF'>\n",
      "414\n"
     ]
    },
    {
     "data": {
      "text/plain": [
       "(None, None)"
      ]
     },
     "execution_count": 2,
     "metadata": {},
     "output_type": "execute_result"
    }
   ],
   "source": [
    "# pdfplumber.open(\"file.pdf\", password = \"test\")\n",
    "esi = pdfplumber.open('../data/esi/esi2023.pdf')\n",
    "\n",
    "# open method above returns an instance of the pdfplumber.PDF class\n",
    "print(type(esi)), print(len(esi.pages))"
   ]
  },
  {
   "cell_type": "code",
   "execution_count": 3,
   "metadata": {},
   "outputs": [
    {
     "name": "stdout",
     "output_type": "stream",
     "text": [
      "Economic\n",
      "Survey 2022-23\n",
      "Government of India\n",
      "Ministry of Finance\n",
      "Department of Economic Affairs\n",
      "Economic Division\n",
      "North Block\n",
      "New Delhi-110001\n",
      "January, 2023\n"
     ]
    }
   ],
   "source": [
    "for page in esi.pages:\n",
    "    print(page.extract_text())\n",
    "    break"
   ]
  },
  {
   "cell_type": "code",
   "execution_count": 33,
   "metadata": {},
   "outputs": [
    {
     "name": "stdout",
     "output_type": "stream",
     "text": [
      "<class 'pdfplumber.page.Page'>\n"
     ]
    }
   ],
   "source": [
    "# create instance of pdfplumber.Page class\n",
    "no = 1\n",
    "page = esi.pages[no]\n",
    "print(type(page))"
   ]
  },
  {
   "cell_type": "code",
   "execution_count": 34,
   "metadata": {},
   "outputs": [
    {
     "name": "stdout",
     "output_type": "stream",
     "text": [
      "['__annotations__', '__class__', '__delattr__', '__dict__', '__dir__', '__doc__', '__eq__', '__format__', '__ge__', '__getattribute__', '__gt__', '__hash__', '__init__', '__init_subclass__', '__le__', '__lt__', '__module__', '__ne__', '__new__', '__reduce__', '__reduce_ex__', '__repr__', '__setattr__', '__sizeof__', '__str__', '__subclasshook__', '__weakref__', '_get_textmap', 'annots', 'bbox', 'cached_properties', 'chars', 'close', 'crop', 'cropbox', 'curve_edges', 'curves', 'debug_tablefinder', 'dedupe_chars', 'edges', 'extract_table', 'extract_tables', 'extract_text', 'extract_text_lines', 'extract_text_simple', 'extract_words', 'filter', 'find_table', 'find_tables', 'flush_cache', 'get_textmap', 'height', 'horizontal_edges', 'hyperlinks', 'images', 'initial_doctop', 'is_original', 'iter_layout_objects', 'layout', 'lines', 'mediabox', 'objects', 'outside_bbox', 'page_number', 'page_obj', 'pages', 'parse_objects', 'pdf', 'point2coord', 'process_object', 'rect_edges', 'rects', 'root_page', 'rotation', 'search', 'structure_tree', 'textboxhorizontals', 'textboxverticals', 'textlinehorizontals', 'textlineverticals', 'to_csv', 'to_dict', 'to_image', 'to_json', 'vertical_edges', 'width', 'within_bbox']\n"
     ]
    }
   ],
   "source": [
    "print(dir(page))"
   ]
  },
  {
   "cell_type": "code",
   "execution_count": 35,
   "metadata": {},
   "outputs": [
    {
     "name": "stdout",
     "output_type": "stream",
     "text": [
      "\n"
     ]
    }
   ],
   "source": [
    "print(page.extract_text())"
   ]
  },
  {
   "cell_type": "code",
   "execution_count": 40,
   "metadata": {},
   "outputs": [
    {
     "name": "stdout",
     "output_type": "stream",
     "text": [
      "\n"
     ]
    }
   ],
   "source": [
    "print(page.extract_text(layout=True))"
   ]
  },
  {
   "cell_type": "code",
   "execution_count": 41,
   "metadata": {},
   "outputs": [
    {
     "data": {
      "text/plain": [
       "(list, 0)"
      ]
     },
     "execution_count": 41,
     "metadata": {},
     "output_type": "execute_result"
    }
   ],
   "source": [
    "# number of rectangles\n",
    "type(page.rects), len(page.rects)"
   ]
  },
  {
   "cell_type": "code",
   "execution_count": 42,
   "metadata": {},
   "outputs": [
    {
     "data": {
      "text/plain": [
       "0"
      ]
     },
     "execution_count": 42,
     "metadata": {},
     "output_type": "execute_result"
    }
   ],
   "source": [
    "# number of curved objects\n",
    "len(page.curves)"
   ]
  },
  {
   "cell_type": "code",
   "execution_count": 43,
   "metadata": {},
   "outputs": [
    {
     "data": {
      "image/png": "[encoded data removed]",
      "text/plain": [
       "<pdfplumber.display.PageImage at 0x111549d60>"
      ]
     },
     "execution_count": 43,
     "metadata": {},
     "output_type": "execute_result"
    }
   ],
   "source": [
    "im = page.to_image()\n",
    "im"
   ]
  },
  {
   "cell_type": "code",
   "execution_count": 44,
   "metadata": {},
   "outputs": [
    {
     "data": {
      "image/png": "[encoded data removed]",
      "text/plain": [
       "<pdfplumber.display.PageImage at 0x111549d60>"
      ]
     },
     "execution_count": 44,
     "metadata": {},
     "output_type": "execute_result"
    }
   ],
   "source": [
    "im.reset().draw_rects(page.chars)"
   ]
  },
  {
   "cell_type": "code",
   "execution_count": 45,
   "metadata": {},
   "outputs": [
    {
     "data": {
      "image/png": "[encoded data removed]",
      "text/plain": [
       "<pdfplumber.display.PageImage at 0x111549d60>"
      ]
     },
     "execution_count": 45,
     "metadata": {},
     "output_type": "execute_result"
    }
   ],
   "source": [
    "im.draw_rects(page.curves)"
   ]
  },
  {
   "cell_type": "code",
   "execution_count": 46,
   "metadata": {},
   "outputs": [
    {
     "data": {
      "image/png": "[encoded data removed]",
      "text/plain": [
       "<pdfplumber.display.PageImage at 0x111549d60>"
      ]
     },
     "execution_count": 46,
     "metadata": {},
     "output_type": "execute_result"
    }
   ],
   "source": [
    "im.reset().debug_tablefinder()"
   ]
  },
  {
   "cell_type": "code",
   "execution_count": 47,
   "metadata": {},
   "outputs": [
    {
     "data": {
      "text/plain": [
       "[]"
      ]
     },
     "execution_count": 47,
     "metadata": {},
     "output_type": "execute_result"
    }
   ],
   "source": [
    "page.extract_tables()"
   ]
  },
  {
   "cell_type": "code",
   "execution_count": 48,
   "metadata": {},
   "outputs": [
    {
     "data": {
      "image/png": "[encoded data removed]",
      "text/plain": [
       "<pdfplumber.display.PageImage at 0x111549d60>"
      ]
     },
     "execution_count": 48,
     "metadata": {},
     "output_type": "execute_result"
    }
   ],
   "source": [
    "im.draw_rects(page.rects)"
   ]
  },
  {
   "cell_type": "code",
   "execution_count": 49,
   "metadata": {},
   "outputs": [
    {
     "ename": "IndexError",
     "evalue": "list index out of range",
     "output_type": "error",
     "traceback": [
      "\u001b[0;31m---------------------------------------------------------------------------\u001b[0m",
      "\u001b[0;31mIndexError\u001b[0m                                Traceback (most recent call last)",
      "Cell \u001b[0;32mIn[49], line 1\u001b[0m\n\u001b[0;32m----> 1\u001b[0m top_rect \u001b[38;5;241m=\u001b[39m \u001b[43mpage\u001b[49m\u001b[38;5;241;43m.\u001b[39;49m\u001b[43mrects\u001b[49m\u001b[43m[\u001b[49m\u001b[38;5;241;43m5\u001b[39;49m\u001b[43m]\u001b[49m\n\u001b[1;32m      2\u001b[0m top_rect_bbox \u001b[38;5;241m=\u001b[39m pdfplumber\u001b[38;5;241m.\u001b[39mutils\u001b[38;5;241m.\u001b[39mobj_to_bbox(top_rect)\n\u001b[1;32m      3\u001b[0m top_rect_cropped \u001b[38;5;241m=\u001b[39m page\u001b[38;5;241m.\u001b[39mcrop(top_rect_bbox)\n",
      "\u001b[0;31mIndexError\u001b[0m: list index out of range"
     ]
    }
   ],
   "source": [
    "top_rect = page.rects[5]\n",
    "top_rect_bbox = pdfplumber.utils.obj_to_bbox(top_rect)\n",
    "top_rect_cropped = page.crop(top_rect_bbox)\n",
    "top_rect_cropped.to_image(resolution=150)"
   ]
  },
  {
   "cell_type": "code",
   "execution_count": 50,
   "metadata": {},
   "outputs": [
    {
     "ename": "NameError",
     "evalue": "name 'top_rect' is not defined",
     "output_type": "error",
     "traceback": [
      "\u001b[0;31m---------------------------------------------------------------------------\u001b[0m",
      "\u001b[0;31mNameError\u001b[0m                                 Traceback (most recent call last)",
      "Cell \u001b[0;32mIn[50], line 1\u001b[0m\n\u001b[0;32m----> 1\u001b[0m \u001b[38;5;28mprint\u001b[39m(\u001b[43mtop_rect\u001b[49m)\n",
      "\u001b[0;31mNameError\u001b[0m: name 'top_rect' is not defined"
     ]
    }
   ],
   "source": [
    "print(top_rect)"
   ]
  },
  {
   "cell_type": "code",
   "execution_count": 26,
   "metadata": {},
   "outputs": [
    {
     "data": {
      "text/plain": [
       "(73.752, 116.1880000000001, 291.754, 298.18800000000005)"
      ]
     },
     "execution_count": 26,
     "metadata": {},
     "output_type": "execute_result"
    }
   ],
   "source": [
    "top_rect[\"x0\"], top_rect[\"top\"], top_rect[\"x1\"], top_rect[\"bottom\"]"
   ]
  },
  {
   "cell_type": "code",
   "execution_count": 27,
   "metadata": {},
   "outputs": [
    {
     "data": {
      "text/plain": [
       "(291.754, 301.254, 288.751, 80.7515)"
      ]
     },
     "execution_count": 27,
     "metadata": {},
     "output_type": "execute_result"
    }
   ],
   "source": [
    "page.rects[5]['x1'], page.rects[6]['x0'], page.rects[1]['x1'], page.rects[2]['x0']"
   ]
  },
  {
   "cell_type": "code",
   "execution_count": 28,
   "metadata": {},
   "outputs": [
    {
     "data": {
      "text/plain": [
       "288.751"
      ]
     },
     "execution_count": 28,
     "metadata": {},
     "output_type": "execute_result"
    }
   ],
   "source": [
    "page.rects[1]['x1']"
   ]
  },
  {
   "cell_type": "code",
   "execution_count": 29,
   "metadata": {},
   "outputs": [
    {
     "data": {
      "image/png": "[encoded data removed]",
      "text/plain": [
       "<pdfplumber.display.PageImage at 0x10f463d40>"
      ]
     },
     "execution_count": 29,
     "metadata": {},
     "output_type": "execute_result"
    }
   ],
   "source": [
    "top_rect = page.rects[1]\n",
    "top_rect_bbox = pdfplumber.utils.obj_to_bbox(top_rect)\n",
    "top_rect_cropped = page.crop(top_rect_bbox)\n",
    "top_rect_cropped.to_image(resolution=150)"
   ]
  },
  {
   "cell_type": "code",
   "execution_count": 51,
   "metadata": {},
   "outputs": [
    {
     "name": "stdout",
     "output_type": "stream",
     "text": [
      "[(1, 2, 4, 5), (2, 3, 5, 7), (0, 1, 6, 8), (3, 0, 7, 6), (-1, -2, 2, 3), (0, 0, 3, 4), (-2, -3, 1, 1)]\n",
      "[(10, 10, 12, 12)]\n"
     ]
    }
   ],
   "source": [
    "def group_adjacent_rectangles(rectangles, distance_threshold):\n",
    "    \"\"\"\n",
    "    Group a list of rectangles into adjacent sets if the coordinates overlap or the distance between the rectangles\n",
    "    is less than a specified value.\n",
    "    \n",
    "    Parameters:\n",
    "    rectangles (list of tuples): A list of tuples where each tuple contains four integers (x1, y1, x2, y2) representing the coordinates of the bottom-left and top-right corners of a rectangle.\n",
    "    distance_threshold (int): The maximum distance between rectangles to consider them as adjacent.\n",
    "    \n",
    "    Returns:\n",
    "    list of lists of tuples: A list where each element is a list of tuples representing a group of adjacent rectangles.\n",
    "    \"\"\"\n",
    "    def rectangles_overlap_or_close(rect1, rect2, threshold):\n",
    "        # Check if rectangles overlap\n",
    "        if not (rect1[2] < rect2[0] or rect1[0] > rect2[2] or rect1[3] < rect2[1] or rect1[1] > rect2[3]):\n",
    "            return True\n",
    "        # Check if rectangles are within the distance threshold\n",
    "        if (abs(rect1[2] - rect2[0]) <= threshold or abs(rect1[0] - rect2[2]) <= threshold) and \\\n",
    "           (rect1[1] <= rect2[3] and rect1[3] >= rect2[1]):\n",
    "            return True\n",
    "        if (abs(rect1[3] - rect2[1]) <= threshold or abs(rect1[1] - rect2[3]) <= threshold) and \\\n",
    "           (rect1[0] <= rect2[2] and rect1[2] >= rect2[0]):\n",
    "            return True\n",
    "        return False\n",
    "\n",
    "    def find_adjacent_group(rect, remaining_rects, threshold):\n",
    "        group = [rect]\n",
    "        to_check = [rect]\n",
    "        while to_check:\n",
    "            current = to_check.pop()\n",
    "            for other in remaining_rects[:]:\n",
    "                if rectangles_overlap_or_close(current, other, threshold):\n",
    "                    group.append(other)\n",
    "                    to_check.append(other)\n",
    "                    remaining_rects.remove(other)\n",
    "        return group\n",
    "\n",
    "    remaining_rects = rectangles[:]\n",
    "    groups = []\n",
    "    while remaining_rects:\n",
    "        rect = remaining_rects.pop(0)\n",
    "        group = find_adjacent_group(rect, remaining_rects, distance_threshold)\n",
    "        groups.append(group)\n",
    "    \n",
    "    return groups\n",
    "\n",
    "# Example usage:\n",
    "# rectangles = [(1, 2, 3, 4), (2, 3, 5, 6), (10, 10, 12, 12), (11, 11, 13, 13),(21,22,23,24),(22,23,24,25),(23,24,25,26)]\n",
    "# rectangles = [\n",
    "#     ((1, 2, 4, 5)),\n",
    "#     ((2, 3, 5, 7)),\n",
    "#     ((0, 1, 6, 8)),\n",
    "#     ((3, 0, 7, 6)),\n",
    "#     ((10, 10, 12, 12)),\n",
    "#     ((-1, -2, 2, 3)),\n",
    "#     ((0, 0, 3, 4)),\n",
    "#     ((-2, -3, 1, 1))\n",
    "# ]\n",
    "rectangles = [\n",
    "    (1, 2, 4, 5),\n",
    "    (2, 3, 5, 7),\n",
    "    (0, 1, 6, 8),\n",
    "    (3, 0, 7, 6),\n",
    "    (10, 10, 12, 12),\n",
    "    (-1, -2, 2, 3),\n",
    "    (0, 0, 3, 4),\n",
    "    (-2, -3, 1, 1),\n",
    "]\n",
    "distance_threshold = 1\n",
    "adjacent_groups = group_adjacent_rectangles(rectangles, distance_threshold)\n",
    "for adj in adjacent_groups:\n",
    "    print(adj)  \n",
    "# Output: [[(1, 2, 3, 4), (2, 3, 5, 6)], [(10, 10, 12, 12), (11, 11, 13, 13)]]\n"
   ]
  },
  {
   "cell_type": "code",
   "execution_count": 60,
   "metadata": {},
   "outputs": [
    {
     "name": "stdout",
     "output_type": "stream",
     "text": [
      "<class 'list'> 0\n"
     ]
    },
    {
     "ename": "IndexError",
     "evalue": "list index out of range",
     "output_type": "error",
     "traceback": [
      "\u001b[0;31m---------------------------------------------------------------------------\u001b[0m",
      "\u001b[0;31mIndexError\u001b[0m                                Traceback (most recent call last)",
      "Cell \u001b[0;32mIn[60], line 4\u001b[0m\n\u001b[1;32m      2\u001b[0m all_rects \u001b[38;5;241m=\u001b[39m page\u001b[38;5;241m.\u001b[39mrects\n\u001b[1;32m      3\u001b[0m \u001b[38;5;28mprint\u001b[39m(\u001b[38;5;28mtype\u001b[39m(all_rects), \u001b[38;5;28mlen\u001b[39m(all_rects))\n\u001b[0;32m----> 4\u001b[0m \u001b[38;5;28mprint\u001b[39m(\u001b[38;5;28mlen\u001b[39m(\u001b[38;5;28mtype\u001b[39m(\u001b[43mall_rects\u001b[49m\u001b[43m[\u001b[49m\u001b[38;5;241;43m0\u001b[39;49m\u001b[43m]\u001b[49m)))\n",
      "\u001b[0;31mIndexError\u001b[0m: list index out of range"
     ]
    }
   ],
   "source": [
    "# list of all rectangle objects on the page\n",
    "all_rects = page.rects\n",
    "print(type(all_rects), len(all_rects))\n",
    "print(len(type(all_rects[0])))"
   ]
  },
  {
   "cell_type": "code",
   "execution_count": 18,
   "metadata": {},
   "outputs": [
    {
     "name": "stdout",
     "output_type": "stream",
     "text": [
      "{'x0': 290.9294, 'y0': 676.9037, 'x1': 292.2774, 'y1': 678.5287, 'width': 1.3480000000000132, 'height': 1.625, 'pts': [(292.2774, 130.47930000000008), (290.9294, 130.47930000000008), (290.9294, 132.10430000000008), (292.2774, 132.10430000000008)], 'linewidth': 0, 'stroke': False, 'fill': True, 'evenodd': False, 'stroking_color': None, 'non_stroking_color': (0, 0, 0, 1), 'mcid': None, 'tag': 'PlacedPDF', 'object_type': 'rect', 'page_number': 1, 'stroking_pattern': None, 'non_stroking_pattern': None, 'path': [('m', (292.2774, 130.47930000000008)), ('l', (290.9294, 130.47930000000008)), ('l', (290.9294, 132.10430000000008)), ('l', (292.2774, 132.10430000000008)), ('h',)], 'dash': None, 'top': 130.47930000000008, 'bottom': 132.10430000000008, 'doctop': 130.47930000000008}\n"
     ]
    }
   ],
   "source": [
    "print(all_rects[0])# , all_rects[1]"
   ]
  },
  {
   "cell_type": "code",
   "execution_count": 53,
   "metadata": {},
   "outputs": [],
   "source": [
    "\n",
    "# for i in range(len(all_rects)):\n",
    "#     rect_tuple.append((all_rects[i]['x0'], all_rects[i]['y0'], all_rects[i]['x1'], all_rects[i]['y1']))\n",
    "\n",
    "rect_tuple = []    \n",
    "# Loop over the dictionary and create a tuple of rectangle box co-ordinate values from the dictionary\n",
    "for i in range(len(all_rects)):\n",
    "    rect_tuple.append((all_rects[i]['x0'], all_rects[i]['y0'], all_rects[i]['x1'], all_rects[i]['y1']))\n"
   ]
  },
  {
   "cell_type": "code",
   "execution_count": 54,
   "metadata": {},
   "outputs": [
    {
     "data": {
      "text/plain": [
       "True"
      ]
     },
     "execution_count": 54,
     "metadata": {},
     "output_type": "execute_result"
    }
   ],
   "source": [
    "rect_tuple1 = [(rect['x0'], rect['y0'], rect['x1'], rect['y1']) for rect in all_rects]\n",
    "len(rect_tuple) == len(rect_tuple1)"
   ]
  },
  {
   "cell_type": "code",
   "execution_count": 55,
   "metadata": {},
   "outputs": [
    {
     "data": {
      "text/plain": [
       "True"
      ]
     },
     "execution_count": 55,
     "metadata": {},
     "output_type": "execute_result"
    }
   ],
   "source": [
    "# verify length equal \n",
    "len(rect_tuple) == len(all_rects)"
   ]
  },
  {
   "cell_type": "code",
   "execution_count": 56,
   "metadata": {},
   "outputs": [
    {
     "name": "stdout",
     "output_type": "stream",
     "text": [
      "0\n"
     ]
    }
   ],
   "source": [
    "# combine overlapping rectangles into a tuple of rectangles\n",
    "distance_threshold = 5\n",
    "adjacent_groups = group_adjacent_rectangles(rect_tuple, distance_threshold)\n",
    "print(len(adjacent_groups))\n",
    "for adj in adjacent_groups:\n",
    "    print(len(adj))\n"
   ]
  },
  {
   "cell_type": "code",
   "execution_count": 57,
   "metadata": {},
   "outputs": [],
   "source": [
    "# find outermost rectangle co-ordinates for each tuple of rectangles as identified above\n",
    "outer_rects = []\n",
    "for group in adjacent_groups:\n",
    "    x0 = min(group, key=lambda x: x[0])[0]\n",
    "    y0 = min(group, key=lambda x: x[1])[1]\n",
    "    x1 = max(group, key=lambda x: x[2])[2]\n",
    "    y1 = max(group, key=lambda x: x[3])[3]\n",
    "    outer_rects.append([x0, y0, x1, y1])\n",
    "    print(outer_rects)"
   ]
  },
  {
   "cell_type": "code",
   "execution_count": 26,
   "metadata": {},
   "outputs": [
    {
     "name": "stdout",
     "output_type": "stream",
     "text": [
      "<class 'list'> 1 <class 'list'>\n",
      "[290.9294, 676.9037, 292.2774, 678.5287]\n"
     ]
    }
   ],
   "source": [
    "print(type(outer_rects), len(outer_rects), type(outer_rects[0]))\n",
    "for rect in outer_rects:\n",
    "    print(rect)"
   ]
  },
  {
   "cell_type": "code",
   "execution_count": 97,
   "metadata": {},
   "outputs": [
    {
     "name": "stdout",
     "output_type": "stream",
     "text": [
      "809.008 593.008 [73.752, 498.449, 290.753, 682.4490000000001]\n"
     ]
    },
    {
     "data": {
      "text/plain": [
       "310.559"
      ]
     },
     "execution_count": 97,
     "metadata": {},
     "output_type": "execute_result"
    }
   ],
   "source": [
    "print(page.height, page.width, outer_rects[0])\n",
    "page.height-outer_rects[0][1]"
   ]
  },
  {
   "cell_type": "code",
   "execution_count": 27,
   "metadata": {},
   "outputs": [
    {
     "name": "stdout",
     "output_type": "stream",
     "text": [
      "(290.9294, 676.9037, 292.2774, 678.5287)\n"
     ]
    },
    {
     "data": {
      "image/png": "[encoded data removed]",
      "text/plain": [
       "<pdfplumber.display.PageImage at 0x1117000d0>"
      ]
     },
     "execution_count": 27,
     "metadata": {},
     "output_type": "execute_result"
    }
   ],
   "source": [
    "top_rect_bbox = (outer_rects[0][0], outer_rects[0][1], outer_rects[0][2], outer_rects[0][3])\n",
    "print(top_rect_bbox)\n",
    "top_rect_cropped = page.crop(top_rect_bbox)\n",
    "top_rect_cropped.to_image(resolution=150)"
   ]
  },
  {
   "cell_type": "code",
   "execution_count": 28,
   "metadata": {},
   "outputs": [],
   "source": [
    "# convert each element of outer_rects to format for creating bounding box\n",
    "bbox_rects = []\n",
    "for rect in outer_rects:\n",
    "    x0 = rect[0]\n",
    "    top = page.height-rect[3]\n",
    "    x1 = rect[2]\n",
    "    bottom = page.height-rect[1]\n",
    "    bbox_rects.append([x0, top, x1, bottom])\n",
    "    "
   ]
  },
  {
   "cell_type": "code",
   "execution_count": 29,
   "metadata": {},
   "outputs": [
    {
     "name": "stdout",
     "output_type": "stream",
     "text": [
      "(290.9294, 130.47930000000008, 292.2774, 132.10430000000008)\n"
     ]
    },
    {
     "data": {
      "image/png": "[encoded data removed]",
      "text/plain": [
       "<pdfplumber.display.PageImage at 0x10f38b6a0>"
      ]
     },
     "execution_count": 29,
     "metadata": {},
     "output_type": "execute_result"
    }
   ],
   "source": [
    "top_rect_bbox = (bbox_rects[0][0], bbox_rects[0][1], bbox_rects[0][2], bbox_rects[0][3])\n",
    "print(top_rect_bbox)\n",
    "top_rect_cropped = page.crop(top_rect_bbox)\n",
    "top_rect_cropped.to_image(resolution=250)"
   ]
  },
  {
   "cell_type": "code",
   "execution_count": 30,
   "metadata": {},
   "outputs": [
    {
     "data": {
      "text/plain": [
       "(list, 1, list, [290.9294, 130.47930000000008, 292.2774, 132.10430000000008])"
      ]
     },
     "execution_count": 30,
     "metadata": {},
     "output_type": "execute_result"
    }
   ],
   "source": [
    "type(bbox_rects), len(bbox_rects), type(bbox_rects[0]), bbox_rects[0]"
   ]
  },
  {
   "cell_type": "code",
   "execution_count": 44,
   "metadata": {},
   "outputs": [
    {
     "name": "stdout",
     "output_type": "stream",
     "text": [
      "directory exists\n"
     ]
    }
   ],
   "source": [
    "#  code to check if a directory exists and create it if it doesn't\n",
    "if not os.path.exists('../data/esi/test'):\n",
    "    os.mkdir('../data/esi/test')\n",
    "else:\n",
    "    print('directory exists')"
   ]
  },
  {
   "cell_type": "code",
   "execution_count": 46,
   "metadata": {},
   "outputs": [],
   "source": [
    "# os.makedirs('../data/esi/test/images', exist_ok=True)"
   ]
  },
  {
   "cell_type": "code",
   "execution_count": 103,
   "metadata": {},
   "outputs": [
    {
     "name": "stdout",
     "output_type": "stream",
     "text": [
      "[73.752, 126.55899999999997, 290.753, 310.559]\n",
      "[301.255, 126.55899999999997, 518.255, 309.521]\n",
      "[71.253, 409.54900000000004, 293.253, 591.5500000000001]\n",
      "[299.755, 409.54900000000004, 519.755, 591.5500000000001]\n"
     ]
    }
   ],
   "source": [
    "for i, rect in enumerate(bbox_rects):\n",
    "    print(rect)\n",
    "    bbox = (rect[0], rect[1], rect[2], rect[3])\n",
    "    # print(bbox)\n",
    "    bbox_cropped = page.crop(bbox)\n",
    "    ia = bbox_cropped.to_image(resolution=250)\n",
    "    ia.save(f'../data/esi/test/pg_{no}_img_{i+1}.png')\n",
    "    "
   ]
  },
  {
   "cell_type": "code",
   "execution_count": 21,
   "metadata": {},
   "outputs": [],
   "source": [
    "import time"
   ]
  },
  {
   "cell_type": "code",
   "execution_count": 26,
   "metadata": {},
   "outputs": [
    {
     "name": "stdout",
     "output_type": "stream",
     "text": [
      "414\n",
      "0.017897844314575195\n"
     ]
    }
   ],
   "source": [
    "start = time.time()\n",
    "esi_pages = []\n",
    "for num in range(len(esi.pages)):\n",
    "        page = esi.pages[num]\n",
    "        esi_pages.append(page.extract_text())\n",
    "\n",
    "print(len(esi_pages))\n",
    "print(time.time() - start)"
   ]
  },
  {
   "cell_type": "code",
   "execution_count": 67,
   "metadata": {},
   "outputs": [
    {
     "name": "stdout",
     "output_type": "stream",
     "text": [
      "414\n",
      "0.0012409687042236328\n",
      "1065765\n"
     ]
    },
    {
     "data": {
      "text/plain": [
       "1048121"
      ]
     },
     "execution_count": 67,
     "metadata": {},
     "output_type": "execute_result"
    }
   ],
   "source": [
    "start = time.time()\n",
    "esi_pages2 = [esi.pages[num].extract_text() for num in range(len(esi.pages))]\n",
    "\n",
    "# for num in range(len(esi.pages)):\n",
    "#         page = esi.pages[num]\n",
    "#         esi_pages.append(page.extract_text())\n",
    "\n",
    "print(len(esi_pages2))\n",
    "print(time.time() - start)\n",
    "\n",
    "esi_text = \" \".join(esi_pages2)\n",
    "print(len(esi_text))\n",
    "esi_text = esi_text.replace(\"\\n\", \"\")\n",
    "len(esi_text)"
   ]
  },
  {
   "cell_type": "code",
   "execution_count": 68,
   "metadata": {},
   "outputs": [],
   "source": [
    "import re"
   ]
  },
  {
   "cell_type": "code",
   "execution_count": 69,
   "metadata": {},
   "outputs": [
    {
     "data": {
      "text/plain": [
       "1036781"
      ]
     },
     "execution_count": 69,
     "metadata": {},
     "output_type": "execute_result"
    }
   ],
   "source": [
    "target_text = \"figure\"\n",
    "pattern = re.compile(re.escape(target_text) + r\".{100}\")\n",
    "# pattern = re.compile(re.escape(target_text) + r\".{100}\")\n",
    "# def replace_with_space(match):\n",
    "#     return match.group(1) + \" \"\n",
    "\n",
    "esi_text_clean = pattern.sub(\" \", esi_text)\n",
    "len(esi_text_clean)"
   ]
  },
  {
   "cell_type": "code",
   "execution_count": 70,
   "metadata": {},
   "outputs": [
    {
     "name": "stdout",
     "output_type": "stream",
     "text": [
      "133\n",
      "0\n"
     ]
    }
   ],
   "source": [
    "print(esi_text.count('figure'))\n",
    "print(esi_text_clean.count('figure'))"
   ]
  },
  {
   "cell_type": "code",
   "execution_count": 71,
   "metadata": {},
   "outputs": [
    {
     "data": {
      "text/plain": [
       "'heets were repaired and restored to health. Not letting the crisis go waste (i.e., fashioning aneffective policy response to the crisis and beyond), the government ramped up public investment in infrastructureto prepare the ground for the private sector to invest, hire and prosper. It records the wide-ranging structural reformsand governance improvements that the government has undertaken since 2014.While reforms before 2014 addressed product and capital markets, reforms since then have emphasisedenhancing the ease of living and doing business to improve economic efficiency. The key principles on which thesepolicies have been anchored are creating public goods, adopting trust-based governance, partnering with the privatesector for development and improving agricultural productivity. With cleaner, leaner and stronger balance sheetsand payoffs flowing from reforms, India’s potential growth stands elevated, and the ability of the economy to growat its potential is enhanced. Without making extravagant claims, the chapter concludes with optimism about India’smedium-term outlook.Chapter 3 focuses on India’s fiscal policy trajectory and examines the evolution of the Goods and Services Taxas a source of durable and dependable revenue for states and the centre. Given India’s demographic advantage andannual nominal GDP growth potential to be around 10 per cent to 12 per cent on average in the coming years, fiscalparameters will continue to improve. It is said that growth drives the fiscal balance in India, and it is true. At thesame time, it is possible to imagine fiscal discipline turning into fiscal stimulus in future, as it would bring downthe government’s cost of borrowing, lowering the present high share of interest payments in public expenditure andmaking more money available for economic development and social welfare.Money, Banking and Capital Markets are the subjects of Chapter 4. During the year, the Reserve Bank of India(RBI) raised interest rates swiftly to preven'"
      ]
     },
     "execution_count": 71,
     "metadata": {},
     "output_type": "execute_result"
    }
   ],
   "source": [
    "esi_text[10000:12000]"
   ]
  },
  {
   "cell_type": "code",
   "execution_count": 72,
   "metadata": {},
   "outputs": [],
   "source": [
    "# write content to a text file\n",
    "with open('../data/esi/test/esi_text_clean.txt', 'w') as file:\n",
    "    file.write(esi_text_clean)"
   ]
  },
  {
   "cell_type": "code",
   "execution_count": null,
   "metadata": {},
   "outputs": [],
   "source": []
  }
 ],
 "metadata": {
  "kernelspec": {
   "display_name": "pdfplumber",
   "language": "python",
   "name": "python3"
  },
  "language_info": {
   "codemirror_mode": {
    "name": "ipython",
    "version": 3
   },
   "file_extension": ".py",
   "mimetype": "text/x-python",
   "name": "python",
   "nbconvert_exporter": "python",
   "pygments_lexer": "ipython3",
   "version": "3.9.6"
  }
 },
 "nbformat": 4,
 "nbformat_minor": 2
}
