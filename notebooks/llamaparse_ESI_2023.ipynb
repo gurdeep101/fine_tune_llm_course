{
 "cells": [
  {
   "cell_type": "markdown",
   "metadata": {},
   "source": [
    "### Objective\n",
    "\n",
    "* Create IFT dataset from economic survey of India and RBI annual report\n",
    "* SFT using LoRA on some Llama model\n",
    "* Build RAG over new ESI when budget and RBI reports are released\n",
    "\n",
    "##### Considerations\n",
    "* Both documents have text, tables and images within them.\n",
    "* Information may not necessarily be repeated across all formats\n",
    "* Hence, we need to parse all formats.\n",
    "\n",
    "##### We will look at multiple approaches\n",
    "* Using Llamaparse - since it processes images, text and tables \n",
    "* Using unstructured - can it do the same thing?\n",
    "* Using PDFPlumber for text and tables since some tables were not recognized with llamaparse \n",
    "\n",
    "##### Llamaparse approach - based on results from llamaparse_uber.ipynb\n",
    "\n",
    "* Use Llamaparse in this notebook\n",
    "* Images and tables\n",
    "    * Parse as JSON\n",
    "    * Separate out images and tables into separate dictionaries\n",
    "* Text\n",
    "    * Parse as markdown\n",
    "    * Replace tables with space using regex\n",
    "    * Chunk text and store as dictionary"
   ]
  },
  {
   "cell_type": "code",
   "execution_count": 1,
   "metadata": {},
   "outputs": [],
   "source": [
    "import nest_asyncio\n",
    "nest_asyncio.apply()\n",
    "\n",
    "import os\n",
    "from llama_parse import LlamaParse"
   ]
  },
  {
   "cell_type": "code",
   "execution_count": 2,
   "metadata": {},
   "outputs": [
    {
     "name": "stdout",
     "output_type": "stream",
     "text": [
      "API key found\n"
     ]
    }
   ],
   "source": [
    "# check for key\n",
    "LLAMAPARSE_API_KEY = os.environ.get('LLAMAPARSE_API_KEY')\n",
    "if LLAMAPARSE_API_KEY is not None:\n",
    "    print('API key found')\n",
    "else:\n",
    "    print('Check for API key in environment variable')"
   ]
  },
  {
   "cell_type": "code",
   "execution_count": 5,
   "metadata": {},
   "outputs": [
    {
     "name": "stdout",
     "output_type": "stream",
     "text": [
      "--2024-06-24 17:59:31--  https://www.indiabudget.gov.in/economicsurvey/doc/echapter.pdf\n",
      "Resolving www.indiabudget.gov.in (www.indiabudget.gov.in)... 2600:140f:2a00::17c6:410, 2600:140f:2a00::17c6:430, 23.52.73.101, ...\n",
      "Connecting to www.indiabudget.gov.in (www.indiabudget.gov.in)|2600:140f:2a00::17c6:410|:443... connected.\n",
      "HTTP request sent, awaiting response... 200 OK\n",
      "Length: 14302499 (14M) [application/pdf]\n",
      "Saving to: ‘../data/esi/esi2023_1.pdf’\n",
      "\n",
      "../data/esi/esi2023 100%[===================>]  13.64M  11.7MB/s    in 1.2s    \n",
      "\n",
      "2024-06-24 17:59:32 (11.7 MB/s) - ‘../data/esi/esi2023_1.pdf’ saved [14302499/14302499]\n",
      "\n"
     ]
    }
   ],
   "source": [
    "!wget --user-agent=\"Mozilla/5.0 (Windows NT 10.0; Win64; x64) AppleWebKit/537.36 (KHTML, like Gecko) Chrome/91.0.4472.124 Safari/537.36\" https://www.indiabudget.gov.in/economicsurvey/doc/echapter.pdf -O '../data/esi/esi2023.pdf'"
   ]
  },
  {
   "cell_type": "code",
   "execution_count": 24,
   "metadata": {},
   "outputs": [],
   "source": [
    "# instantiate parser for json results\n",
    "parser = LlamaParse(verbose=True,\n",
    "                     api_key=LLAMAPARSE_API_KEY,\n",
    "                     language='en',\n",
    "                     # result_type=\"markdown\", # or text; no json\n",
    "                     parsing_instruction=\"You are parsing an economic survey report released by the government of a developing economy. The document has text, tables and graphs. Try to recognise the graphs\"\n",
    "                     )"
   ]
  },
  {
   "cell_type": "code",
   "execution_count": 25,
   "metadata": {},
   "outputs": [
    {
     "name": "stdout",
     "output_type": "stream",
     "text": [
      "Started parsing the file under job_id a89defbb-a174-4f2a-bb9f-da1ed6be37fb\n",
      "......."
     ]
    }
   ],
   "source": [
    "esi2023_json = parser.get_json_result('../data/esi/esi2023.pdf')"
   ]
  },
  {
   "cell_type": "code",
   "execution_count": 26,
   "metadata": {},
   "outputs": [
    {
     "data": {
      "text/plain": [
       "414"
      ]
     },
     "execution_count": 26,
     "metadata": {},
     "output_type": "execute_result"
    }
   ],
   "source": [
    "# separate dictionary within pages for each page\n",
    "len(esi2023_json[0]['pages'])"
   ]
  },
  {
   "cell_type": "code",
   "execution_count": 51,
   "metadata": {},
   "outputs": [
    {
     "name": "stdout",
     "output_type": "stream",
     "text": [
      "# Economic Survey 2022-23\n",
      "\n",
      "|Per cent (YoY)|Per cent|Broad-based growth driven by Demand and Investment|\n",
      "|---|---|---|\n",
      "|figure I.10a: yoy growth of Real|figure I.10b: Share of Real|Feb-21|\n",
      "| |Gva components|GDp components|\n",
      "|FY19 (3rd RE)|Apr-21| |\n",
      "|Agriculture and allied activities|FY19 (3rd RE)|FY20 (2nd RE)|\n",
      "| | |FY21 (1st RE)|\n",
      "|Jun-21|Industry| |\n",
      "|FY22 (PE)|FY23 (1st AE)|Aug-21|\n",
      "|Services| |FY20 (2nd RE)|\n",
      "|Oct-21| | |\n",
      "|Dec-21| | |\n",
      "|FY21 (1st RE)|Feb-22| |\n",
      "| | | |\n",
      "|-2| | |\n",
      "|Apr-22| | |\n",
      "|-7|Jun-22|FY22 (PE)|\n",
      "| | |Aug-22|\n",
      "|-12|Oct-22|FY23 (1st AE)|\n",
      "|Dec-22| | |\n",
      "\n",
      "|PFCE|GFCF|Exports of goods and services|Imports of goods and services|\n",
      "|---|---|---|---|\n",
      "|Per cent of GDP|Source: NSO, MoSPI| | |\n",
      "\n",
      "Note: AE stands for Advanced Estimates, PE stands for Provisional Estimates, RE stands for Revised Estimates\n",
      "\n",
      "|figure I.11: cpI Inflation eased back|figure I.12: Indian Rupee performed|\n",
      "|---|---|\n",
      "|to RBI’s target range|well compared to other emes|\n",
      "\n",
      "|CPI|CPI-Food|Depreciation (+)/Appreciation(-)|\n",
      "|---|---|---|\n",
      "|10| |South Africa|\n",
      "|8| |Brazil|\n",
      "|6| |Australia|\n",
      "|4| |Indonesia|\n",
      "|2| |India|\n",
      "|0| |China|\n",
      "| | |UK|\n",
      "| | |Japan|\n",
      "| | |Euro|\n",
      "| | |South Korea|\n",
      "| | |Mexico|\n",
      "|Source: MoSPI| |Per cent|\n",
      "\n",
      "Source: Bloomberg, RBI (Exchange rates for December as on 31st Dec 2022)\n",
      "\n",
      "However, the conflict in Europe necessitated a revision in expectations for economic growth and inflation in FY23. The country’s retail inflation had crept above the RBI’s tolerance range in January 2022. It remained above the target range for ten months before returning to below the upper end of the target range of 6 per cent in November 2022. During those ten months, rising international commodity prices contributed to India’s retail inflation as also local\n"
     ]
    }
   ],
   "source": [
    "no = 51\n",
    "print(esi2023_json[0]['pages'][no]['md'])"
   ]
  },
  {
   "cell_type": "code",
   "execution_count": 52,
   "metadata": {},
   "outputs": [
    {
     "name": "stdout",
     "output_type": "stream",
     "text": [
      "                                                                           10                                            Economic Survey 2022-23\n",
      "Per cent (YoY)Per centBroad-based growth driven by Demand and Investment\n",
      "                                                                                                                  figure I.10a: yoy growth of Real                                                                                                        figure I.10b: Share of RealFeb-21\n",
      "                                                                                                                                                           Gva components                                                                                                           GDp componentsFY19 (3rd RE)Apr-21\n",
      "                                                                                                                                                           Agriculture and allied activities                              FY19 (3rd RE)                                                                  FY20 (2nd RE)                                                            FY21 (1st RE)Jun-21Industry\n",
      "                                                                                                                                                                                                                          FY22 (PE)                                                                      FY23 (1st AE)Aug-21Services80FY20 (2nd RE)\n",
      "                                                                                                  8Oct-21\n",
      "Dec-213                                                                                                                                                                                                                          60\n",
      "FY21 (1st RE)Feb-22\n",
      "                                                                                              -2                                                                                                                                 40Apr-22\n",
      "                                                                                              -7Jun-22FY22 (PE)\n",
      "                                                                                                                                                                                                                                 20Aug-22-12\n",
      "Oct-220FY23 (1st AE)\n",
      "Dec-22PFCE                                                                                                                                                                                                                                                                                                      GFCF                                    Exports of                                 Imports of\n",
      "                                                                                                                                                                                                                                                                                                                                                         goods and                                 goods and\n",
      "                                                                                                                                                                                                                                                                                                                                                             services                                  services\n",
      "Per cent of GDPSource: NSO, MoSPI\n",
      "                                                                                Note: AE stands for Advanced Estimates, PE stands for Provisional Estimates, RE stands for Revised Estimates\n",
      "\n",
      "\n",
      "                                                                                                        figure I.11: cpI Inflation eased back                                                                                    figure I.12: Indian Rupee performed\n",
      "                                                                                                                                                 to RBI’s target range                                                                              well compared to other emes\n",
      "\n",
      "\n",
      "                                                                                                                                                       CPI                                    CPI-Food                                      Depreciation (+)/Appreciation(-)\n",
      "                                                                                           10                                                                                                                                       against USD between Apr-Dec 2022\n",
      "                                                                                                8                                                                                                        South Africa                                                                                                                                                                                            16.4\n",
      "                                                                                                                                                                                                                                    Brazil                                                                                                                                                   11.5\n",
      "                                                                                                6                                                                                                                       Australia                                                                                                                                                 10.0\n",
      "                                                                                                                                                                                                                      Indonesia                                                                                                                                              8.8\n",
      "                                                                                                4                                                                                                                                        India                                                                                                                               8.8\n",
      "                                                                                                                                                                                                                                     China                                                                                                                                   8.8\n",
      "                                                                                                2                                                                                                                                             UK                                                                                                                            8.6\n",
      "                                                                                                                                                                                                                                      Japan                                                                                                                            7.7\n",
      "                                                                                                0                                                                                                                                         Euro                                                                                                4.1\n",
      "                                                                                                                                                                                                           South Korea                                                                                                                       3.9\n",
      "                                                                                                                                                                                                                               Mexico                              -2.0\n",
      "                                                                                                                                                                                                                                                                                                                                               Per cent\n",
      "                                                                             Source: MoSPI                                                                                                              Source: Bloomberg, RBI (Exchange rates for December\n",
      "                                                                                                                                                                                                        as on 31st Dec 2022)\n",
      "\n",
      "\n",
      "                                                                          1.11                          However, the conflict in Europe necessitated a revision in expectations for economic\n",
      "                                                                          growth and inflation in FY23. The country’s retail inflation had crept above the RBI’s tolerance\n",
      "                                                                          range in January 2022. It remained above the target range for ten months before returning to\n",
      "                                                                          below the upper end of the target range of 6 per cent in November 2022. During those ten\n",
      "                                                                          months, rising international commodity prices contributed to India’s retail inflation as also local\n"
     ]
    }
   ],
   "source": [
    "print(esi2023_json[0]['pages'][no]['text'])"
   ]
  },
  {
   "cell_type": "code",
   "execution_count": 54,
   "metadata": {},
   "outputs": [
    {
     "name": "stdout",
     "output_type": "stream",
     "text": [
      "[]\n"
     ]
    }
   ],
   "source": [
    "print(esi2023_json[0]['pages'][no]['images'])"
   ]
  }
 ],
 "metadata": {
  "kernelspec": {
   "display_name": "llamaparse",
   "language": "python",
   "name": "python3"
  },
  "language_info": {
   "codemirror_mode": {
    "name": "ipython",
    "version": 3
   },
   "file_extension": ".py",
   "mimetype": "text/x-python",
   "name": "python",
   "nbconvert_exporter": "python",
   "pygments_lexer": "ipython3",
   "version": "3.12.2"
  }
 },
 "nbformat": 4,
 "nbformat_minor": 2
}
