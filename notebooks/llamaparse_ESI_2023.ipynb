{
 "cells": [
  {
   "cell_type": "markdown",
   "metadata": {},
   "source": [
    "### Objective\n",
    "\n",
    "* Create IFT dataset from economic survey of India and RBI annual report\n",
    "* SFT using LoRA on some Llama model\n",
    "* Build RAG over new ESI when budget and RBI reports are released\n",
    "\n",
    "##### Considerations\n",
    "* Both documents have text, tables and images within them.\n",
    "* Information may not necessarily be repeated across all formats\n",
    "* Hence, we need to parse all formats.\n",
    "\n",
    "##### We will look at multiple approaches\n",
    "* Using Llamaparse - since it processes images, text and tables \n",
    "* Using PDFPlumber for text and tables since some tables were not recognized with llamaparse \n",
    "\n",
    "##### Llamaparse approach - based on results from llamaparse_uber.ipynb\n",
    "\n",
    "* Use Llamaparse in this notebook\n",
    "* Images and tables\n",
    "    * Parse as JSON\n",
    "    * Separate out images and tables into separate dictionaries\n",
    "* Text\n",
    "    * Parse as markdown\n",
    "    * Replace tables with space using regex\n",
    "    * Chunk text and store as dictionary"
   ]
  },
  {
   "cell_type": "code",
   "execution_count": 20,
   "metadata": {},
   "outputs": [],
   "source": [
    "import nest_asyncio\n",
    "nest_asyncio.apply()\n",
    "\n",
    "import os\n",
    "from llama_parse import LlamaParse"
   ]
  },
  {
   "cell_type": "code",
   "execution_count": 21,
   "metadata": {},
   "outputs": [
    {
     "name": "stdout",
     "output_type": "stream",
     "text": [
      "API key found\n"
     ]
    }
   ],
   "source": [
    "# check for key\n",
    "LLAMAPARSE_API_KEY = os.environ.get('LLAMAPARSE_API_KEY')\n",
    "if LLAMAPARSE_API_KEY is not None:\n",
    "    print('API key found')\n",
    "else:\n",
    "    print('Check for API key in environment variable')"
   ]
  },
  {
   "cell_type": "code",
   "execution_count": 23,
   "metadata": {},
   "outputs": [
    {
     "name": "stdout",
     "output_type": "stream",
     "text": [
      "file exists, skipping\n"
     ]
    }
   ],
   "source": [
    "# check if file exists else download it\n",
    "if not os.path.exists('../data/esi/esi2023.pdf'):\n",
    "    !wget --user-agent=\"Mozilla/5.0 (Windows NT 10.0; Win64; x64) AppleWebKit/537.36 (KHTML, like Gecko) Chrome/91.0.4472.124 Safari/537.36\" https://www.indiabudget.gov.in/economicsurvey/doc/echapter.pdf -O '../data/esi/esi2023.pdf'\n",
    "else:\n",
    "    print('file exists, skipping')"
   ]
  },
  {
   "cell_type": "code",
   "execution_count": 24,
   "metadata": {},
   "outputs": [],
   "source": [
    "import PyPDF2"
   ]
  },
  {
   "cell_type": "code",
   "execution_count": 25,
   "metadata": {},
   "outputs": [],
   "source": [
    "def extract_pages(input_pdf_path, output_pdf_path, pages_to_extract):\n",
    "    # open input_pdf_file\n",
    "    with open(input_pdf_path, 'rb') as input_pdf:\n",
    "        reader = PyPDF2.PdfReader(input_pdf)\n",
    "        writer = PyPDF2.PdfWriter()\n",
    "        \n",
    "        # extract the specified pages\n",
    "        for page_num in pages_to_extract:\n",
    "            writer.add_page(reader.pages[page_num])\n",
    "            \n",
    "        # save the output_pdf_file\n",
    "        with open(output_pdf_path, 'wb') as output_pdf:\n",
    "            writer.write(output_pdf)   "
   ]
  },
  {
   "cell_type": "code",
   "execution_count": 26,
   "metadata": {},
   "outputs": [],
   "source": [
    "input_pdf_path = '../data/esi/esi2023.pdf'\n",
    "output_pdf_path = '../data/esi/esi2023_pages.pdf'\n",
    "pages_to_extract = list(range(42,100))"
   ]
  },
  {
   "cell_type": "code",
   "execution_count": 27,
   "metadata": {},
   "outputs": [],
   "source": [
    "extract_pages(input_pdf_path, output_pdf_path, pages_to_extract)"
   ]
  },
  {
   "cell_type": "code",
   "execution_count": 28,
   "metadata": {},
   "outputs": [],
   "source": [
    "# instantiate parser for json results\n",
    "parser = LlamaParse(verbose=True,\n",
    "                     api_key=LLAMAPARSE_API_KEY,\n",
    "                     language='en',\n",
    "                     # result_type=\"markdown\", # or text; no json\n",
    "                     parsing_instruction=\"You are parsing an economic survey report released by the government of a developing economy. The document has text, tables and graphs. Try to recognise the graphs and return them as images\"\n",
    "                     )"
   ]
  },
  {
   "cell_type": "code",
   "execution_count": 29,
   "metadata": {},
   "outputs": [
    {
     "name": "stdout",
     "output_type": "stream",
     "text": [
      "Started parsing the file under job_id 6b4a5641-a621-4e73-8f7d-ba9172bfe294\n",
      ".."
     ]
    }
   ],
   "source": [
    "esi2023_json = parser.get_json_result('../data/esi/esi2023_pages.pdf')"
   ]
  },
  {
   "cell_type": "code",
   "execution_count": 30,
   "metadata": {},
   "outputs": [
    {
     "data": {
      "text/plain": [
       "58"
      ]
     },
     "execution_count": 30,
     "metadata": {},
     "output_type": "execute_result"
    }
   ],
   "source": [
    "# separate dictionary within pages for each page\n",
    "len(esi2023_json[0]['pages'])"
   ]
  },
  {
   "cell_type": "code",
   "execution_count": 32,
   "metadata": {},
   "outputs": [
    {
     "name": "stdout",
     "output_type": "stream",
     "text": [
      "#\n",
      "\n",
      "# Economic Survey Report\n",
      "\n",
      "# Economic Survey 2022-23\n",
      "\n",
      "Per cent hardening of bond yields across economies\n",
      "\n",
      "| |Euro Area|France|Germany|Brazil|China|India|\n",
      "|---|---|---|---|---|---|---|\n",
      "|Jan-20| | | | | | |\n",
      "|Feb-21| | | | | | |\n",
      "|Apr-21| | | | | | |\n",
      "|Jun-20| | | | | | |\n",
      "|Jun-21| | | | | | |\n",
      "|Aug-21| | | | | | |\n",
      "|Oct-21| | | | | | |\n",
      "|Dec-21| | | | | | |\n",
      "|Feb-22| | | | | | |\n",
      "|Apr-22| | | | | | |\n",
      "|Jun-22| | | | | | |\n",
      "|Aug-22| | | | | | |\n",
      "|Oct-22| | | | | | |\n",
      "|Dec-22| | | | | | |\n",
      "\n",
      "Per cent Source: Bloomberg\n",
      "\n",
      "Rising inflation and monetary tightening led to a slowdown in global output beginning in the second half of 2022. The global PMI composite index has been in the contractionary zone since August 2022, while the yearly growth rates of global trade, retail sales, and industrial production have significantly declined in the second half of 2022. The consequent dampening of the global economic outlook, also compounded by expectations of a further increase in borrowing costs, was reflected in the lowering of growth forecasts by the IMF in its October 2022 update of the World Economic Outlook (WEO).\n"
     ]
    }
   ],
   "source": [
    "no = 5\n",
    "print(esi2023_json[0]['pages'][no]['md'])"
   ]
  },
  {
   "cell_type": "code",
   "execution_count": 33,
   "metadata": {},
   "outputs": [
    {
     "name": "stdout",
     "output_type": "stream",
     "text": [
      "                   6           Economic Survey 2022-23\n",
      "Per centPer centhardening of bond yields across economies\n",
      "Jan-20figure I.4a: 10-year Bond yield in aes                                            figure I.4b: 10-year Bond yield in emesFeb-21\n",
      "Apr-21Euro Area                                   France              Germany                  Brazil              China              IndiaJun-20\n",
      "                              UK                  US                  Japan                    Indonesia           Mexico             RussiaJun-21\n",
      "                         6                                                               14Nov-20Aug-21\n",
      "Oct-214Apr-21\n",
      "Dec-2110\n",
      "Feb-22Sep-212\n",
      "Apr-226Feb-220Jun-22\n",
      "Aug-22Jul-22\n",
      "                        -2                                                                2Oct-22\n",
      "Dec-22Dec-22\n",
      "\n",
      "\n",
      "Per centSource: Bloomberg\n",
      "                                         figure I.5: the federal funds Rate was raised by a cumulativeFeb-21425 basis points since Jan 2022 leading to capital flight from emes and aes\n",
      "Apr-21\n",
      "                         5Jun-21Effective Federal Funds Rate                                      FPI Equity Flows (Jan-Dec 2022)\n",
      "Aug-214                                                                                      Brazil\n",
      "Oct-21Indonesia\n",
      "Dec-213                                                                                       Japan\n",
      "Feb-22Malaysia\n",
      "                         2Apr-22S. Africa\n",
      "Jun-221                                                                                     Canada\n",
      "Aug-22S. Korea\n",
      "Oct-220                                                                                       India\n",
      "Dec-22\n",
      "                                                                                                    -20       -10        0        10        20\n",
      "                                                                                                               US$ Billion\n",
      "\n",
      "\n",
      "                    Source: Federal Reserve                                             Source: Bloomberg\n",
      "                   1.6    Rising inflation and monetary tightening led to a slowdown in global output beginning in\n",
      "                   the second half of 2022. The global PMI composite index has been in the contractionary zone\n",
      "                   since August 2022, while the yearly growth rates of global trade, retail sales, and industrial\n",
      "                   production have significantly declined in the second half of 2022. The consequent dampening\n",
      "                   of the global economic outlook, also compounded by expectations of a further increase in\n",
      "                   borrowing costs, was reflected in the lowering of growth forecasts by the IMF in its October\n",
      "                   2022 update of the World Economic Outlook (WEO).\n"
     ]
    }
   ],
   "source": [
    "print(esi2023_json[0]['pages'][no]['text'])"
   ]
  },
  {
   "cell_type": "code",
   "execution_count": 34,
   "metadata": {},
   "outputs": [
    {
     "name": "stdout",
     "output_type": "stream",
     "text": [
      "[]\n"
     ]
    }
   ],
   "source": [
    "print(esi2023_json[0]['pages'][no]['images'])"
   ]
  }
 ],
 "metadata": {
  "kernelspec": {
   "display_name": "llamaparse",
   "language": "python",
   "name": "python3"
  },
  "language_info": {
   "codemirror_mode": {
    "name": "ipython",
    "version": 3
   },
   "file_extension": ".py",
   "mimetype": "text/x-python",
   "name": "python",
   "nbconvert_exporter": "python",
   "pygments_lexer": "ipython3",
   "version": "3.1.undefined"
  }
 },
 "nbformat": 4,
 "nbformat_minor": 2
}
